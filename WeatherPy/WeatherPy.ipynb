{
 "cells": [
  {
   "cell_type": "markdown",
   "metadata": {},
   "source": [
    "# WeatherPy\n",
    "----\n",
    "\n",
    "#### Note\n",
    "* Instructions have been included for each segment. You do not have to follow them exactly, but they are included to help you think through the steps."
   ]
  },
  {
   "cell_type": "code",
   "execution_count": 1,
   "metadata": {
    "scrolled": true
   },
   "outputs": [],
   "source": [
    "# Dependencies and Setup\n",
    "import matplotlib.pyplot as plt\n",
    "import pandas as pd\n",
    "import numpy as np\n",
    "import requests\n",
    "import time\n",
    "import json\n",
    "from scipy.stats import linregress\n",
    "\n",
    "# Import API key\n",
    "from api_keys import weather_api_key\n",
    "\n",
    "# Incorporated citipy to determine city based on latitude and longitude\n",
    "from citipy import citipy\n",
    "\n",
    "# Output File (CSV)\n",
    "output_data_file = \"output_data/cities.csv\"\n",
    "\n",
    "# Range of latitudes and longitudes\n",
    "lat_range = (-90, 90)\n",
    "lng_range = (-180, 180)"
   ]
  },
  {
   "cell_type": "markdown",
   "metadata": {},
   "source": [
    "## Generate Cities List"
   ]
  },
  {
   "cell_type": "code",
   "execution_count": 17,
   "metadata": {
    "scrolled": true
   },
   "outputs": [
    {
     "data": {
      "text/plain": [
       "609"
      ]
     },
     "execution_count": 17,
     "metadata": {},
     "output_type": "execute_result"
    }
   ],
   "source": [
    "# List for holding lat_lngs and cities\n",
    "lat_lngs = []\n",
    "cities = []\n",
    "\n",
    "# Create a set of random lat and lng combinations\n",
    "lats = np.random.uniform(low=-90.000, high=90.000, size=1500)\n",
    "lngs = np.random.uniform(low=-180.000, high=180.000, size=1500)\n",
    "lat_lngs = zip(lats, lngs)\n",
    "\n",
    "# Identify nearest city for each lat, lng combination\n",
    "for lat_lng in lat_lngs:\n",
    "    city = citipy.nearest_city(lat_lng[0], lat_lng[1]).city_name\n",
    "    \n",
    "    # If the city is unique, then add it to a our cities list\n",
    "    if city not in cities:\n",
    "        cities.append(city)\n",
    "        \n",
    "# Print the city count to confirm sufficient count\n",
    "len(cities)"
   ]
  },
  {
   "cell_type": "markdown",
   "metadata": {},
   "source": [
    "### Perform API Calls\n",
    "* Perform a weather check on each city using a series of successive API calls.\n",
    "* Include a print log of each city as it'sbeing processed (with the city number and city name).\n"
   ]
  },
  {
   "cell_type": "code",
   "execution_count": 93,
   "metadata": {
    "collapsed": true,
    "jupyter": {
     "outputs_hidden": true
    }
   },
   "outputs": [
    {
     "name": "stdout",
     "output_type": "stream",
     "text": [
      "Processing Record 0 of Set 1 | port-cartier\n",
      "Processing Record 1 of Set 1 | matara\n",
      "Processing Record 2 of Set 1 | georgetown\n",
      "Processing Record 3 of Set 1 | east london\n",
      "Processing Record 4 of Set 1 | port alfred\n",
      "Processing Record 5 of Set 1 | cidreira\n",
      "Processing Record 6 of Set 1 | butaritari\n",
      "Processing Record 7 of Set 1 | nouadhibou\n",
      "Processing Record 8 of Set 1 | barrow\n",
      "Processing Record 9 of Set 1 | busselton\n",
      "Processing Record 10 of Set 1 | yellowknife\n",
      "Processing Record 11 of Set 1 | esperance\n",
      "Processing Record 12 of Set 1 | ushuaia\n",
      "Processing Record 13 of Set 1 | sosnogorsk\n",
      "Processing Record 14 of Set 1 | albany\n",
      "Processing Record 15 of Set 1 | vaitupu\n",
      "Processing Record 16 of Set 1 | hamilton\n",
      "Processing Record 17 of Set 1 | barentsburg\n",
      "Processing Record 18 of Set 1 | paradwip\n",
      "Processing Record 19 of Set 1 | namatanai\n",
      "Processing Record 20 of Set 1 | qaqortoq\n",
      "Processing Record 21 of Set 1 | grand river south east\n",
      "Processing Record 22 of Set 1 | bima\n",
      "Processing Record 23 of Set 1 | airai\n",
      "Processing Record 24 of Set 1 | tsihombe\n",
      "Processing Record 25 of Set 1 | kortkeros\n",
      "Processing Record 26 of Set 1 | sentyabrskiy\n",
      "Processing Record 27 of Set 1 | marica\n",
      "Processing Record 28 of Set 1 | kupang\n",
      "Processing Record 29 of Set 1 | korla\n",
      "Processing Record 30 of Set 1 | jamestown\n",
      "Processing Record 31 of Set 1 | vaini\n",
      "Processing Record 32 of Set 1 | cayenne\n",
      "Processing Record 33 of Set 1 | kahului\n",
      "Processing Record 34 of Set 1 | mataura\n",
      "Processing Record 35 of Set 1 | umzimvubu\n",
      "Processing Record 36 of Set 1 | grindavik\n",
      "Processing Record 37 of Set 1 | kapaa\n",
      "Processing Record 38 of Set 1 | ahipara\n",
      "Processing Record 39 of Set 1 | tumannyy\n",
      "Processing Record 40 of Set 1 | geraldton\n",
      "Processing Record 41 of Set 1 | ostrovnoy\n",
      "Processing Record 42 of Set 1 | bredasdorp\n",
      "Processing Record 43 of Set 1 | avera\n",
      "Processing Record 44 of Set 1 | valle hermoso\n",
      "Processing Record 45 of Set 1 | vestmannaeyjar\n",
      "Processing Record 46 of Set 1 | meyungs\n",
      "Processing Record 47 of Set 1 | mys shmidta\n",
      "Processing Record 48 of Set 1 | kodiak\n",
      "Processing Record 49 of Set 1 | hobart\n",
      "Processing Record 0 of Set 2 | bereda\n",
      "Processing Record 1 of Set 2 | tahta\n",
      "Processing Record 2 of Set 2 | illoqqortoormiut\n",
      "Processing Record 3 of Set 2 | zwedru\n",
      "Processing Record 4 of Set 2 | atuona\n",
      "Processing Record 5 of Set 2 | zyryanka\n",
      "Processing Record 6 of Set 2 | aykhal\n",
      "Processing Record 7 of Set 2 | yulara\n",
      "Processing Record 8 of Set 2 | te anau\n",
      "Processing Record 9 of Set 2 | saint-philippe\n",
      "Processing Record 10 of Set 2 | bethel\n",
      "Processing Record 11 of Set 2 | khurba\n",
      "Processing Record 12 of Set 2 | tampakan\n",
      "Processing Record 13 of Set 2 | mar del plata\n",
      "Processing Record 14 of Set 2 | qaanaaq\n",
      "Processing Record 15 of Set 2 | mahebourg\n",
      "Processing Record 16 of Set 2 | stephenville\n",
      "Processing Record 17 of Set 2 | tezu\n",
      "Processing Record 18 of Set 2 | bow island\n",
      "Processing Record 19 of Set 2 | hermanus\n",
      "Processing Record 20 of Set 2 | offenburg\n",
      "Processing Record 21 of Set 2 | belushya guba\n",
      "Processing Record 22 of Set 2 | hobyo\n",
      "Processing Record 23 of Set 2 | adrar\n",
      "Processing Record 24 of Set 2 | ribeira grande\n",
      "Processing Record 25 of Set 2 | kango\n",
      "Processing Record 26 of Set 2 | isangel\n",
      "Processing Record 27 of Set 2 | luderitz\n",
      "Processing Record 28 of Set 2 | saint-joseph\n",
      "Processing Record 29 of Set 2 | vardo\n",
      "Processing Record 30 of Set 2 | provideniya\n",
      "Processing Record 31 of Set 2 | dikson\n",
      "Processing Record 32 of Set 2 | petropavlovsk-kamchatskiy\n",
      "Processing Record 33 of Set 2 | kudahuvadhoo\n",
      "Processing Record 34 of Set 2 | rikitea\n",
      "Processing Record 35 of Set 2 | roma\n",
      "Processing Record 36 of Set 2 | great falls\n",
      "Processing Record 37 of Set 2 | punta arenas\n",
      "Processing Record 38 of Set 2 | tasiilaq\n",
      "Processing Record 39 of Set 2 | chokurdakh\n",
      "Processing Record 40 of Set 2 | gibara\n",
      "Processing Record 41 of Set 2 | taolanaro\n",
      "Processing Record 42 of Set 2 | sinkat\n",
      "Processing Record 43 of Set 2 | samusu\n",
      "Processing Record 44 of Set 2 | olinda\n",
      "Processing Record 45 of Set 2 | chapais\n",
      "Processing Record 46 of Set 2 | port lincoln\n",
      "Processing Record 47 of Set 2 | la asuncion\n",
      "Processing Record 48 of Set 2 | katsuura\n",
      "Processing Record 49 of Set 2 | chapaevsk\n",
      "Processing Record 0 of Set 3 | owensboro\n",
      "Processing Record 1 of Set 3 | chuy\n",
      "Processing Record 2 of Set 3 | morondava\n",
      "Processing Record 3 of Set 3 | jalu\n",
      "Processing Record 4 of Set 3 | hithadhoo\n",
      "Processing Record 5 of Set 3 | sitka\n",
      "Processing Record 6 of Set 3 | belyy yar\n",
      "Processing Record 7 of Set 3 | ilulissat\n",
      "Processing Record 8 of Set 3 | marrakesh\n",
      "Processing Record 9 of Set 3 | arraial do cabo\n",
      "Processing Record 10 of Set 3 | mahon\n",
      "Processing Record 11 of Set 3 | batemans bay\n",
      "Processing Record 12 of Set 3 | marzuq\n",
      "Processing Record 13 of Set 3 | pangnirtung\n",
      "Processing Record 14 of Set 3 | cabo san lucas\n",
      "Processing Record 15 of Set 3 | sao joao da barra\n",
      "Processing Record 16 of Set 3 | bathsheba\n",
      "Processing Record 17 of Set 3 | vanavara\n",
      "Processing Record 18 of Set 3 | bluff\n",
      "Processing Record 19 of Set 3 | russell\n",
      "Processing Record 20 of Set 3 | lagoa\n",
      "Processing Record 21 of Set 3 | binga\n",
      "Processing Record 22 of Set 3 | parian dakula\n",
      "Processing Record 23 of Set 3 | hofn\n",
      "Processing Record 24 of Set 3 | akyab\n",
      "Processing Record 25 of Set 3 | caconda\n",
      "Processing Record 26 of Set 3 | rocha\n",
      "Processing Record 27 of Set 3 | nikolskoye\n",
      "Processing Record 28 of Set 3 | rawson\n",
      "Processing Record 29 of Set 3 | oranjemund\n",
      "Processing Record 30 of Set 3 | ilhabela\n",
      "Processing Record 31 of Set 3 | sept-iles\n",
      "Processing Record 32 of Set 3 | saint-georges\n",
      "Processing Record 33 of Set 3 | brigantine\n",
      "Processing Record 34 of Set 3 | ridgecrest\n",
      "Processing Record 35 of Set 3 | marawi\n",
      "Processing Record 36 of Set 3 | nojorid\n",
      "Processing Record 37 of Set 3 | nioro\n",
      "Processing Record 38 of Set 3 | bitkine\n",
      "Processing Record 39 of Set 3 | port elizabeth\n",
      "Processing Record 40 of Set 3 | verkh-usugli\n",
      "Processing Record 41 of Set 3 | hilo\n",
      "Processing Record 42 of Set 3 | new norfolk\n",
      "Processing Record 43 of Set 3 | longyearbyen\n",
      "Processing Record 44 of Set 3 | chatham\n",
      "Processing Record 45 of Set 3 | tuatapere\n",
      "Processing Record 46 of Set 3 | nandurbar\n",
      "Processing Record 47 of Set 3 | cherskiy\n",
      "Processing Record 48 of Set 3 | constitucion\n",
      "Processing Record 49 of Set 3 | dalvik\n",
      "Processing Record 0 of Set 4 | eyl\n",
      "Processing Record 1 of Set 4 | miri\n",
      "Processing Record 2 of Set 4 | harper\n",
      "Processing Record 3 of Set 4 | udachnyy\n",
      "Processing Record 4 of Set 4 | cape town\n",
      "Processing Record 5 of Set 4 | namibe\n",
      "Processing Record 6 of Set 4 | smithers\n",
      "Processing Record 7 of Set 4 | raga\n",
      "Processing Record 8 of Set 4 | bengkulu\n",
      "Processing Record 9 of Set 4 | touros\n",
      "Processing Record 10 of Set 4 | half moon bay\n",
      "Processing Record 11 of Set 4 | acajutla\n",
      "Processing Record 12 of Set 4 | pevek\n",
      "Processing Record 13 of Set 4 | nanakuli\n",
      "Processing Record 14 of Set 4 | bambous virieux\n",
      "Processing Record 15 of Set 4 | puerto escondido\n",
      "Processing Record 16 of Set 4 | kaliganj\n",
      "Processing Record 17 of Set 4 | saint george\n",
      "Processing Record 18 of Set 4 | tadine\n",
      "Processing Record 19 of Set 4 | wanaka\n",
      "Processing Record 20 of Set 4 | saldanha\n",
      "Processing Record 21 of Set 4 | leningradskiy\n",
      "Processing Record 22 of Set 4 | deputatskiy\n",
      "Processing Record 23 of Set 4 | kwakoa\n",
      "Processing Record 24 of Set 4 | seoul\n",
      "Processing Record 25 of Set 4 | kaitangata\n",
      "Processing Record 26 of Set 4 | hay river\n",
      "Processing Record 27 of Set 4 | fort nelson\n",
      "Processing Record 28 of Set 4 | faanui\n",
      "Processing Record 29 of Set 4 | lima\n",
      "Processing Record 30 of Set 4 | port hardy\n",
      "Processing Record 31 of Set 4 | myrtle beach\n",
      "Processing Record 32 of Set 4 | znamenskoye\n",
      "Processing Record 33 of Set 4 | nizhneyansk\n",
      "Processing Record 34 of Set 4 | birjand\n",
      "Processing Record 35 of Set 4 | lake charles\n",
      "Processing Record 36 of Set 4 | avarua\n",
      "Processing Record 37 of Set 4 | hrodna\n",
      "Processing Record 38 of Set 4 | caldwell\n",
      "Processing Record 39 of Set 4 | zhigansk\n",
      "Processing Record 40 of Set 4 | carutapera\n",
      "Processing Record 41 of Set 4 | lebu\n",
      "Processing Record 42 of Set 4 | dingle\n",
      "Processing Record 43 of Set 4 | santa cruz\n",
      "Processing Record 44 of Set 4 | henties bay\n",
      "Processing Record 45 of Set 4 | fier\n",
      "Processing Record 46 of Set 4 | thompson\n",
      "Processing Record 47 of Set 4 | werda\n",
      "Processing Record 48 of Set 4 | caravelas\n",
      "Processing Record 49 of Set 4 | kimbe\n"
     ]
    }
   ],
   "source": [
    "# Adding a counter to call in sets of 50\n",
    "counter = 0\n",
    "\n",
    "# Making a request for each city\n",
    "for x in range(len(cities)):\n",
    "    print(f\"Processing Record {x} of Set 1 | {cities[x]}\")\n",
    "    counter += 1\n",
    "    if counter == 50:\n",
    "        break\n",
    "        \n",
    "counter = 0      \n",
    "for x in range(len(cities)):\n",
    "    print(f\"Processing Record {x} of Set 2 | {cities[x + 50]}\")\n",
    "    counter += 1\n",
    "    if counter == 50:\n",
    "        break\n",
    "        \n",
    "counter = 0      \n",
    "for x in range(len(cities)):\n",
    "    print(f\"Processing Record {x} of Set 3 | {cities[x + 100]}\")\n",
    "    counter += 1\n",
    "    if counter == 50:\n",
    "        break\n",
    "        \n",
    "counter = 0      \n",
    "for x in range(len(cities)):\n",
    "    print(f\"Processing Record {x} of Set 4 | {cities[x + 150]}\")\n",
    "    counter += 1\n",
    "    if counter == 50:\n",
    "        break"
   ]
  },
  {
   "cell_type": "markdown",
   "metadata": {},
   "source": [
    "### Convert Raw Data to DataFrame\n",
    "* Export the city data into a .csv.\n",
    "* Display the DataFrame"
   ]
  },
  {
   "cell_type": "code",
   "execution_count": null,
   "metadata": {
    "scrolled": true
   },
   "outputs": [],
   "source": [
    "url = \"https://api.openweathermap.org/data/2.5/weather?\"\n",
    "query_url = f\"{url}&appid={weather_api_key}&q=\"\n",
    "print(query_url)\n",
    "\n",
    "#Creating an empty list to store procossing log\n",
    "lat = []\n",
    "temp = []\n",
    "\n",
    "# Loop through the list of cities and perform a request for data on each\n",
    "for city in cities:\n",
    "    response = requests.get(query_url + city)\n",
    "    response_json = response.json()\n",
    "    print(json.dumps(response_json, indent=4, sort_keys=True))\n",
    "    try:\n",
    "        lat.append(response_json['coord']['lat'])\n",
    "        temp.append(response_json['main']['temp'])\n",
    "    except:\n",
    "        print(\"City not found\")\n",
    "        pass"
   ]
  },
  {
   "cell_type": "code",
   "execution_count": null,
   "metadata": {},
   "outputs": [],
   "source": [
    "print(f\"List of Latitude: {lat}\")\n",
    "print(\"______________________________________________________________________________________________\")\n",
    "print(f\"List of Tempature: {temp}\")"
   ]
  },
  {
   "cell_type": "markdown",
   "metadata": {},
   "source": [
    "### Plotting the Data\n",
    "* Use proper labeling of the plots using plot titles (including date of analysis) and axes labels.\n",
    "* Save the plotted figures as .pngs."
   ]
  },
  {
   "cell_type": "markdown",
   "metadata": {},
   "source": [
    "#### Latitude vs. Temperature Plot"
   ]
  },
  {
   "cell_type": "code",
   "execution_count": null,
   "metadata": {
    "scrolled": true
   },
   "outputs": [],
   "source": []
  },
  {
   "cell_type": "markdown",
   "metadata": {},
   "source": [
    "#### Latitude vs. Humidity Plot"
   ]
  },
  {
   "cell_type": "code",
   "execution_count": null,
   "metadata": {},
   "outputs": [],
   "source": []
  },
  {
   "cell_type": "markdown",
   "metadata": {},
   "source": [
    "#### Latitude vs. Cloudiness Plot"
   ]
  },
  {
   "cell_type": "code",
   "execution_count": null,
   "metadata": {},
   "outputs": [],
   "source": []
  },
  {
   "cell_type": "markdown",
   "metadata": {},
   "source": [
    "#### Latitude vs. Wind Speed Plot"
   ]
  },
  {
   "cell_type": "code",
   "execution_count": null,
   "metadata": {},
   "outputs": [],
   "source": []
  },
  {
   "cell_type": "markdown",
   "metadata": {},
   "source": [
    "## Linear Regression"
   ]
  },
  {
   "cell_type": "code",
   "execution_count": null,
   "metadata": {},
   "outputs": [],
   "source": [
    "# OPTIONAL: Create a function to create Linear Regression plots\n"
   ]
  },
  {
   "cell_type": "code",
   "execution_count": null,
   "metadata": {},
   "outputs": [],
   "source": [
    "# Create Northern and Southern Hemisphere DataFrames\n"
   ]
  },
  {
   "cell_type": "markdown",
   "metadata": {},
   "source": [
    "####  Northern Hemisphere - Max Temp vs. Latitude Linear Regression"
   ]
  },
  {
   "cell_type": "code",
   "execution_count": null,
   "metadata": {},
   "outputs": [],
   "source": []
  },
  {
   "cell_type": "markdown",
   "metadata": {},
   "source": [
    "####  Southern Hemisphere - Max Temp vs. Latitude Linear Regression"
   ]
  },
  {
   "cell_type": "code",
   "execution_count": null,
   "metadata": {},
   "outputs": [],
   "source": []
  },
  {
   "cell_type": "markdown",
   "metadata": {},
   "source": [
    "####  Northern Hemisphere - Humidity (%) vs. Latitude Linear Regression"
   ]
  },
  {
   "cell_type": "code",
   "execution_count": null,
   "metadata": {},
   "outputs": [],
   "source": []
  },
  {
   "cell_type": "markdown",
   "metadata": {},
   "source": [
    "####  Southern Hemisphere - Humidity (%) vs. Latitude Linear Regression"
   ]
  },
  {
   "cell_type": "code",
   "execution_count": null,
   "metadata": {},
   "outputs": [],
   "source": []
  },
  {
   "cell_type": "markdown",
   "metadata": {},
   "source": [
    "####  Northern Hemisphere - Cloudiness (%) vs. Latitude Linear Regression"
   ]
  },
  {
   "cell_type": "code",
   "execution_count": null,
   "metadata": {},
   "outputs": [],
   "source": []
  },
  {
   "cell_type": "markdown",
   "metadata": {},
   "source": [
    "####  Southern Hemisphere - Cloudiness (%) vs. Latitude Linear Regression"
   ]
  },
  {
   "cell_type": "code",
   "execution_count": null,
   "metadata": {},
   "outputs": [],
   "source": []
  },
  {
   "cell_type": "markdown",
   "metadata": {},
   "source": [
    "####  Northern Hemisphere - Wind Speed (mph) vs. Latitude Linear Regression"
   ]
  },
  {
   "cell_type": "code",
   "execution_count": null,
   "metadata": {},
   "outputs": [],
   "source": []
  },
  {
   "cell_type": "markdown",
   "metadata": {},
   "source": [
    "####  Southern Hemisphere - Wind Speed (mph) vs. Latitude Linear Regression"
   ]
  },
  {
   "cell_type": "code",
   "execution_count": null,
   "metadata": {},
   "outputs": [],
   "source": []
  },
  {
   "cell_type": "code",
   "execution_count": null,
   "metadata": {},
   "outputs": [],
   "source": []
  }
 ],
 "metadata": {
  "anaconda-cloud": {},
  "kernel_info": {
   "name": "python3"
  },
  "kernelspec": {
   "display_name": "Python 3",
   "language": "python",
   "name": "python3"
  },
  "language_info": {
   "codemirror_mode": {
    "name": "ipython",
    "version": 3
   },
   "file_extension": ".py",
   "mimetype": "text/x-python",
   "name": "python",
   "nbconvert_exporter": "python",
   "pygments_lexer": "ipython3",
   "version": "3.7.4"
  },
  "latex_envs": {
   "LaTeX_envs_menu_present": true,
   "autoclose": false,
   "autocomplete": true,
   "bibliofile": "biblio.bib",
   "cite_by": "apalike",
   "current_citInitial": 1,
   "eqLabelWithNumbers": true,
   "eqNumInitial": 1,
   "hotkeys": {
    "equation": "Ctrl-E",
    "itemize": "Ctrl-I"
   },
   "labels_anchors": false,
   "latex_user_defs": false,
   "report_style_numbering": false,
   "user_envs_cfg": false
  },
  "nteract": {
   "version": "0.12.3"
  }
 },
 "nbformat": 4,
 "nbformat_minor": 4
}
